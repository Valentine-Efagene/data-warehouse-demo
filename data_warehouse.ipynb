{
 "cells": [
  {
   "cell_type": "markdown",
   "metadata": {},
   "source": [
    "### Define Constants"
   ]
  },
  {
   "cell_type": "code",
   "execution_count": 6,
   "metadata": {},
   "outputs": [],
   "source": [
    "from MysqlHelper import MysqlHelper\n",
    "\n",
    "HOST_NAME = 'localhost'\n",
    "USERNAME = 'root'\n",
    "PASSWORD = ''\n",
    "DB_NAME = 'data_warehouse'\n",
    "GLOBAL_TABLE_LENGTH = 10"
   ]
  },
  {
   "cell_type": "markdown",
   "metadata": {},
   "source": [
    "### Create Database and Tables"
   ]
  },
  {
   "cell_type": "code",
   "execution_count": 7,
   "metadata": {},
   "outputs": [
    {
     "name": "stdout",
     "output_type": "stream",
     "text": [
      "Mutation successful\n",
      "Mutation successful\n",
      "Mutation successful\n",
      "Mutation successful\n",
      "Mutation successful\n"
     ]
    }
   ],
   "source": [
    "MysqlHelper.createDatabase(host=HOST_NAME, user=USERNAME, password=PASSWORD, database=DB_NAME)\n",
    "mysqlHelper = MysqlHelper(host=HOST_NAME, user=USERNAME, password=PASSWORD, database=DB_NAME)\n",
    "\n",
    "queryString='''\n",
    "CREATE TABLE time (\n",
    "    time_key BIGINT(20) NOT NULL AUTO_INCREMENT, \n",
    "    time TIME, \n",
    "    day INT, \n",
    "    day_of_the_week INT, \n",
    "    month INT, \n",
    "    quarter INT, \n",
    "    year INT, \n",
    "    PRIMARY KEY (time_key)\n",
    ");\n",
    "'''\n",
    "mysqlHelper.mutate(queryString)\n",
    "\n",
    "queryString='''\n",
    "CREATE TABLE item (\n",
    "    item_key BIGINT(20) NOT NULL AUTO_INCREMENT, \n",
    "    item_name VARCHAR(255), \n",
    "    brand VARCHAR(255), \n",
    "    type VARCHAR(255), \n",
    "    supplier_type VARCHAR(255), \n",
    "    PRIMARY KEY (item_key)\n",
    ");\n",
    "'''\n",
    "mysqlHelper.mutate(queryString)\n",
    "\n",
    "queryString='''\n",
    "CREATE TABLE branch (\n",
    "    branch_key BIGINT(20) NOT NULL AUTO_INCREMENT, \n",
    "    branch_name VARCHAR(255), \n",
    "    branch_type VARCHAR(255), \n",
    "    PRIMARY KEY (branch_key)\n",
    ");\n",
    "'''\n",
    "mysqlHelper.mutate(queryString)\n",
    "\n",
    "queryString='''\n",
    "CREATE TABLE location (\n",
    "    location_key BIGINT(20) NOT NULL AUTO_INCREMENT, \n",
    "    street VARCHAR(255), \n",
    "    city VARCHAR(255), \n",
    "    state_or_province VARCHAR(255), \n",
    "    country VARCHAR(255), \n",
    "    PRIMARY KEY (location_key)\n",
    ");\n",
    "'''\n",
    "mysqlHelper.mutate(queryString)\n",
    "\n",
    "queryString='''\n",
    "CREATE TABLE sales_fact (\n",
    "    sales_fact_key BIGINT(20) NOT NULL AUTO_INCREMENT, \n",
    "    time_key BIGINT(20), \n",
    "    item_key BIGINT(20), \n",
    "    branch_key BIGINT(20), \n",
    "    location_key BIGINT(20), \n",
    "    unit_sold INT, \n",
    "    dollars_sold FLOAT, \n",
    "    PRIMARY KEY (sales_fact_key),\n",
    "    FOREIGN KEY (time_key) REFERENCES time(time_key),\n",
    "    FOREIGN KEY (item_key) REFERENCES item(item_key),\n",
    "    FOREIGN KEY (branch_key) REFERENCES branch(branch_key),\n",
    "    FOREIGN KEY (location_key) REFERENCES location(location_key)\n",
    ");\n",
    "'''\n",
    "mysqlHelper.mutate(queryString)\n",
    "\n",
    "del mysqlHelper"
   ]
  },
  {
   "cell_type": "markdown",
   "metadata": {},
   "source": [
    "### Seeding"
   ]
  },
  {
   "cell_type": "markdown",
   "metadata": {},
   "source": [
    "Times"
   ]
  },
  {
   "cell_type": "code",
   "execution_count": 8,
   "metadata": {},
   "outputs": [
    {
     "name": "stdout",
     "output_type": "stream",
     "text": [
      "Mutation successful\n"
     ]
    }
   ],
   "source": [
    "from faker import Faker\n",
    "from random import randint\n",
    "\n",
    "mysqlHelper = MysqlHelper(host=HOST_NAME, user=USERNAME, password=PASSWORD, database=DB_NAME)\n",
    "faker = Faker()\n",
    "dates = [None] * GLOBAL_TABLE_LENGTH\n",
    "\n",
    "for i in range(GLOBAL_TABLE_LENGTH):\n",
    "    date = str(faker.date_time_between(start_date=\"-6y\", end_date='now'))\n",
    "    dates[i] = (date,) * 6\n",
    "\n",
    "queryString='''\n",
    "INSERT INTO TIME (\n",
    "    time,\n",
    "    day,\n",
    "    day_of_the_week,\n",
    "    month,\n",
    "    quarter,\n",
    "    year\n",
    ")\n",
    "VALUES\n",
    "(\n",
    "    TIME(%s), DAY(%s), DAYOFWEEK(%s), MONTH(%s), QUARTER(%s), YEAR(%s)\n",
    ");\n",
    "'''\n",
    "\n",
    "mysqlHelper.mutateMany(queryString, dates)\n",
    "del mysqlHelper"
   ]
  },
  {
   "cell_type": "markdown",
   "metadata": {},
   "source": [
    "Items"
   ]
  },
  {
   "cell_type": "code",
   "execution_count": 9,
   "metadata": {},
   "outputs": [
    {
     "name": "stdout",
     "output_type": "stream",
     "text": [
      "Mutation successful\n"
     ]
    }
   ],
   "source": [
    "from faker import Faker\n",
    "from random import randint\n",
    "\n",
    "mysqlHelper = MysqlHelper(host=HOST_NAME, user=USERNAME, password=PASSWORD, database=DB_NAME)\n",
    "faker = Faker()\n",
    "\n",
    "valuesList = [None] * GLOBAL_TABLE_LENGTH\n",
    "\n",
    "for i in range(GLOBAL_TABLE_LENGTH):\n",
    "    values = {\n",
    "        'item_name': faker.word(),\n",
    "        'brand': faker.word(),\n",
    "        'type': faker.word(),\n",
    "        'supplier_type': faker.word()\n",
    "    }\n",
    "    valuesList[i] = tuple(values.values())\n",
    "\n",
    "queryString='''\n",
    "INSERT INTO item (\n",
    "    item_name,\n",
    "    brand,\n",
    "    type,\n",
    "    supplier_type\n",
    ")\n",
    "VALUES\n",
    "(\n",
    "    %s, %s, %s, %s\n",
    ");\n",
    "'''\n",
    "\n",
    "mysqlHelper.mutateMany(queryString, valuesList)\n",
    "del mysqlHelper"
   ]
  },
  {
   "cell_type": "markdown",
   "metadata": {},
   "source": [
    "Branch"
   ]
  },
  {
   "cell_type": "code",
   "execution_count": 10,
   "metadata": {},
   "outputs": [
    {
     "name": "stdout",
     "output_type": "stream",
     "text": [
      "Mutation successful\n"
     ]
    }
   ],
   "source": [
    "from faker import Faker\n",
    "from random import randint\n",
    "\n",
    "mysqlHelper = MysqlHelper(host=HOST_NAME, user=USERNAME, password=PASSWORD, database=DB_NAME)\n",
    "faker = Faker()\n",
    "\n",
    "valuesList = [None] * GLOBAL_TABLE_LENGTH\n",
    "\n",
    "for i in range(GLOBAL_TABLE_LENGTH):\n",
    "    values = {\n",
    "        'branch_name': faker.company(),\n",
    "        'branch_type': faker.company_suffix(),\n",
    "    }\n",
    "\n",
    "    valuesList[i] = tuple(values.values())\n",
    "\n",
    "queryString='''\n",
    "INSERT INTO branch (\n",
    "    branch_name,\n",
    "    branch_type\n",
    ")\n",
    "VALUES\n",
    "(\n",
    "    %s, %s\n",
    ");\n",
    "'''\n",
    "\n",
    "mysqlHelper.mutateMany(queryString, valuesList)\n",
    "del mysqlHelper"
   ]
  },
  {
   "cell_type": "markdown",
   "metadata": {},
   "source": [
    "Location"
   ]
  },
  {
   "cell_type": "code",
   "execution_count": 11,
   "metadata": {},
   "outputs": [
    {
     "name": "stdout",
     "output_type": "stream",
     "text": [
      "Mutation successful\n"
     ]
    }
   ],
   "source": [
    "from faker import Faker\n",
    "from random import randint\n",
    "\n",
    "mysqlHelper = MysqlHelper(host=HOST_NAME, user=USERNAME, password=PASSWORD, database=DB_NAME)\n",
    "faker = Faker()\n",
    "\n",
    "valuesList = [None] * GLOBAL_TABLE_LENGTH\n",
    "\n",
    "for i in range(GLOBAL_TABLE_LENGTH):\n",
    "    values = {\n",
    "        'street': faker.street_name(),\n",
    "        'city': faker.city(),\n",
    "        'state_or_province': faker.state(),\n",
    "        'country': faker.country()\n",
    "    }\n",
    "    valuesList[i] = tuple(values.values())\n",
    "\n",
    "queryString='''\n",
    "INSERT INTO location (\n",
    "    street,\n",
    "    city,\n",
    "    state_or_province,\n",
    "    country\n",
    ")\n",
    "VALUES\n",
    "(\n",
    "    %s, %s, %s, %s\n",
    ");\n",
    "'''\n",
    "\n",
    "mysqlHelper.mutateMany(queryString, valuesList)\n",
    "del mysqlHelper"
   ]
  },
  {
   "cell_type": "markdown",
   "metadata": {},
   "source": [
    "Sales Facts"
   ]
  },
  {
   "cell_type": "code",
   "execution_count": 12,
   "metadata": {},
   "outputs": [
    {
     "name": "stdout",
     "output_type": "stream",
     "text": [
      "Mutation successful\n"
     ]
    }
   ],
   "source": [
    "from faker import Faker\n",
    "from random import randint\n",
    "\n",
    "mysqlHelper = MysqlHelper(host=HOST_NAME, user=USERNAME, password=PASSWORD, database=DB_NAME)\n",
    "\n",
    "rows = mysqlHelper.query(f'SELECT time_key FROM time LIMIT {GLOBAL_TABLE_LENGTH}')\n",
    "results = mysqlHelper.rowsToList(rows)\n",
    "timeKeys = [value for sublist in results for value in sublist]\n",
    "\n",
    "rows = mysqlHelper.query(f'SELECT item_key FROM item LIMIT {GLOBAL_TABLE_LENGTH}')\n",
    "results = mysqlHelper.rowsToList(rows)\n",
    "itemKeys = [value for sublist in results for value in sublist]\n",
    "\n",
    "rows = mysqlHelper.query(f'SELECT branch_key FROM branch LIMIT {GLOBAL_TABLE_LENGTH}')\n",
    "results = mysqlHelper.rowsToList(rows)\n",
    "branchKeys = [value for sublist in results for value in sublist]\n",
    "\n",
    "rows = mysqlHelper.query(f'SELECT location_key FROM location LIMIT {GLOBAL_TABLE_LENGTH}')\n",
    "results = mysqlHelper.rowsToList(rows)\n",
    "locationKeys = [value for sublist in results for value in sublist]\n",
    "\n",
    "valuesList = [None] * GLOBAL_TABLE_LENGTH\n",
    "\n",
    "for i in range(GLOBAL_TABLE_LENGTH):\n",
    "    values = {\n",
    "        'time_key': timeKeys[randint(0, 9)],\n",
    "        'item_key': itemKeys[randint(0, 9)],\n",
    "        'branch_key': branchKeys[randint(0, 9)],\n",
    "        'location_key': locationKeys[randint(0, 9)],\n",
    "        'unit_sold': randint(0, 50),\n",
    "        'dollars_sold': randint(50, 1000)\n",
    "    }\n",
    "    valuesList[i] = tuple(values.values())\n",
    "\n",
    "queryString='''\n",
    "INSERT INTO sales_fact (\n",
    "    time_key,\n",
    "    item_key,\n",
    "    branch_key,\n",
    "    location_key,\n",
    "    unit_sold,\n",
    "    dollars_sold\n",
    ")\n",
    "VALUES\n",
    "(\n",
    "    %s, %s, %s, %s, %s, %s\n",
    ");\n",
    "'''\n",
    "\n",
    "mysqlHelper.mutateMany(queryString, valuesList)\n",
    "\n",
    "del mysqlHelper"
   ]
  },
  {
   "cell_type": "code",
   "execution_count": null,
   "metadata": {},
   "outputs": [],
   "source": []
  }
 ],
 "metadata": {
  "kernelspec": {
   "display_name": "Python 3.10.6 64-bit",
   "language": "python",
   "name": "python3"
  },
  "language_info": {
   "codemirror_mode": {
    "name": "ipython",
    "version": 3
   },
   "file_extension": ".py",
   "mimetype": "text/x-python",
   "name": "python",
   "nbconvert_exporter": "python",
   "pygments_lexer": "ipython3",
   "version": "3.10.6"
  },
  "orig_nbformat": 4,
  "vscode": {
   "interpreter": {
    "hash": "f6356683baf53449cf23eb17b0641fb99a59459706f77a01f6e695bd8ed9bf34"
   }
  }
 },
 "nbformat": 4,
 "nbformat_minor": 2
}
