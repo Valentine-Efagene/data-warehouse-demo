{
 "cells": [
  {
   "cell_type": "markdown",
   "metadata": {},
   "source": [
    "Test"
   ]
  },
  {
   "cell_type": "code",
   "execution_count": 1,
   "metadata": {},
   "outputs": [
    {
     "data": {
      "text/html": [
       "<div>\n",
       "<style scoped>\n",
       "    .dataframe tbody tr th:only-of-type {\n",
       "        vertical-align: middle;\n",
       "    }\n",
       "\n",
       "    .dataframe tbody tr th {\n",
       "        vertical-align: top;\n",
       "    }\n",
       "\n",
       "    .dataframe thead th {\n",
       "        text-align: right;\n",
       "    }\n",
       "</style>\n",
       "<table border=\"1\" class=\"dataframe\">\n",
       "  <thead>\n",
       "    <tr style=\"text-align: right;\">\n",
       "      <th></th>\n",
       "      <th>First Name</th>\n",
       "      <th>Last Name</th>\n",
       "      <th>Email</th>\n",
       "    </tr>\n",
       "  </thead>\n",
       "  <tbody>\n",
       "    <tr>\n",
       "      <th>0</th>\n",
       "      <td>Kirk</td>\n",
       "      <td>Jones</td>\n",
       "      <td>haley.kobe@example.org</td>\n",
       "    </tr>\n",
       "    <tr>\n",
       "      <th>1</th>\n",
       "      <td>Johnnie</td>\n",
       "      <td>Bradtke</td>\n",
       "      <td>ethan97@example.net</td>\n",
       "    </tr>\n",
       "    <tr>\n",
       "      <th>2</th>\n",
       "      <td>Neha</td>\n",
       "      <td>Howell</td>\n",
       "      <td>jaden.jast@example.net</td>\n",
       "    </tr>\n",
       "    <tr>\n",
       "      <th>3</th>\n",
       "      <td>Ardella</td>\n",
       "      <td>Friesen</td>\n",
       "      <td>emil66@example.net</td>\n",
       "    </tr>\n",
       "    <tr>\n",
       "      <th>4</th>\n",
       "      <td>Caleigh</td>\n",
       "      <td>Streich</td>\n",
       "      <td>edyth.gerhold@example.com</td>\n",
       "    </tr>\n",
       "  </tbody>\n",
       "</table>\n",
       "</div>"
      ],
      "text/plain": [
       "  First Name Last Name                      Email\n",
       "0       Kirk     Jones     haley.kobe@example.org\n",
       "1    Johnnie   Bradtke        ethan97@example.net\n",
       "2       Neha    Howell     jaden.jast@example.net\n",
       "3    Ardella   Friesen         emil66@example.net\n",
       "4    Caleigh   Streich  edyth.gerhold@example.com"
      ]
     },
     "execution_count": 1,
     "metadata": {},
     "output_type": "execute_result"
    }
   ],
   "source": [
    "\n",
    "from MysqlHelper import MysqlHelper\n",
    "\n",
    "HOST_NAME = 'localhost'\n",
    "USERNAME = 'root'\n",
    "PASSWORD = ''\n",
    "DB_NAME = 'jatado_blog'\n",
    "\n",
    "mysqlHelper = MysqlHelper(host=HOST_NAME, user=USERNAME, password=PASSWORD, database=DB_NAME)\n",
    "results = mysqlHelper.query('SELECT first_name, last_name, email FROM users;')\n",
    "mysqlHelper.close()\n",
    "df = mysqlHelper.rowsToPDTable(results, ['First Name', 'Last Name', 'Email'])\n",
    "del mysqlHelper\n",
    "df"
   ]
  },
  {
   "cell_type": "markdown",
   "metadata": {},
   "source": [
    "Define Constants"
   ]
  },
  {
   "cell_type": "code",
   "execution_count": 2,
   "metadata": {},
   "outputs": [],
   "source": [
    "from MysqlHelper import MysqlHelper\n",
    "\n",
    "HOST_NAME = 'localhost'\n",
    "USERNAME = 'root'\n",
    "PASSWORD = ''\n",
    "DB_NAME = 'data_warehouse'"
   ]
  },
  {
   "cell_type": "markdown",
   "metadata": {},
   "source": [
    "Create Database and Tables"
   ]
  },
  {
   "cell_type": "code",
   "execution_count": 3,
   "metadata": {},
   "outputs": [
    {
     "name": "stdout",
     "output_type": "stream",
     "text": [
      "Mutation successful\n",
      "Mutation successful\n",
      "Mutation successful\n",
      "Mutation successful\n",
      "Mutation successful\n"
     ]
    }
   ],
   "source": [
    "MysqlHelper.createDatabase(host=HOST_NAME, user=USERNAME, password=PASSWORD, database=DB_NAME)\n",
    "mysqlHelper = MysqlHelper(host=HOST_NAME, user=USERNAME, password=PASSWORD, database=DB_NAME)\n",
    "\n",
    "queryString='''\n",
    "CREATE TABLE time (\n",
    "    time_key BIGINT(20) NOT NULL AUTO_INCREMENT, \n",
    "    time TIME, \n",
    "    day INT, \n",
    "    day_of_the_week INT, \n",
    "    month INT, \n",
    "    quarter INT, \n",
    "    year INT, \n",
    "    PRIMARY KEY (time_key)\n",
    ");\n",
    "'''\n",
    "mysqlHelper.mutate(queryString)\n",
    "\n",
    "queryString='''\n",
    "CREATE TABLE item (\n",
    "    item_key BIGINT(20) NOT NULL AUTO_INCREMENT, \n",
    "    item_name VARCHAR(255), \n",
    "    brand VARCHAR(255), \n",
    "    type VARCHAR(255), \n",
    "    supplier_type VARCHAR(255), \n",
    "    PRIMARY KEY (item_key)\n",
    ");\n",
    "'''\n",
    "mysqlHelper.mutate(queryString)\n",
    "\n",
    "queryString='''\n",
    "CREATE TABLE branch (\n",
    "    branch_key BIGINT(20) NOT NULL AUTO_INCREMENT, \n",
    "    branch_name VARCHAR(255), \n",
    "    branch_type VARCHAR(255), \n",
    "    PRIMARY KEY (branch_key)\n",
    ");\n",
    "'''\n",
    "mysqlHelper.mutate(queryString)\n",
    "\n",
    "queryString='''\n",
    "CREATE TABLE location (\n",
    "    location_key BIGINT(20) NOT NULL AUTO_INCREMENT, \n",
    "    street VARCHAR(255), \n",
    "    city VARCHAR(255), \n",
    "    state_or_province VARCHAR(255), \n",
    "    country VARCHAR(255), \n",
    "    PRIMARY KEY (location_key)\n",
    ");\n",
    "'''\n",
    "mysqlHelper.mutate(queryString)\n",
    "\n",
    "queryString='''\n",
    "CREATE TABLE sales_fact (\n",
    "    sales_fact_key BIGINT(20) NOT NULL AUTO_INCREMENT, \n",
    "    time_key BIGINT(20), \n",
    "    item_key BIGINT(20), \n",
    "    branch_key BIGINT(20), \n",
    "    location_key BIGINT(20), \n",
    "    unit_sold INT, \n",
    "    dollars_sold FLOAT, \n",
    "    PRIMARY KEY (sales_fact_key),\n",
    "    FOREIGN KEY (time_key) REFERENCES time(time_key),\n",
    "    FOREIGN KEY (item_key) REFERENCES item(item_key),\n",
    "    FOREIGN KEY (branch_key) REFERENCES branch(branch_key),\n",
    "    FOREIGN KEY (location_key) REFERENCES location(location_key)\n",
    ");\n",
    "'''\n",
    "mysqlHelper.mutate(queryString)\n",
    "\n",
    "del mysqlHelper"
   ]
  },
  {
   "cell_type": "markdown",
   "metadata": {},
   "source": [
    "### Seeding"
   ]
  },
  {
   "cell_type": "markdown",
   "metadata": {},
   "source": [
    "Times"
   ]
  },
  {
   "cell_type": "code",
   "execution_count": 4,
   "metadata": {},
   "outputs": [
    {
     "name": "stdout",
     "output_type": "stream",
     "text": [
      "Mutation successful\n",
      "Mutation successful\n",
      "Mutation successful\n",
      "Mutation successful\n",
      "Mutation successful\n",
      "Mutation successful\n",
      "Mutation successful\n",
      "Mutation successful\n",
      "Mutation successful\n",
      "Mutation successful\n"
     ]
    }
   ],
   "source": [
    "from faker import Faker\n",
    "from random import randint\n",
    "\n",
    "mysqlHelper = MysqlHelper(host=HOST_NAME, user=USERNAME, password=PASSWORD, database=DB_NAME)\n",
    "faker = Faker()\n",
    "\n",
    "DAYS_OF_THE_WEEK = [\n",
    "    'Sunday',\n",
    "    'Monday',\n",
    "    'Tuesday',\n",
    "    'Wednesday',\n",
    "    'Thursday',\n",
    "    'Friday',\n",
    "    'Saturday'\n",
    "    ]\n",
    "\n",
    "def getQuarter(month):\n",
    "    quarter = 1\n",
    "\n",
    "    if (month < 4):\n",
    "        quarter = 2\n",
    "    elif ( 3 < month < 7 ):\n",
    "        quarter = 3\n",
    "    elif ( month > 6 ):\n",
    "        quarter = 4\n",
    "\n",
    "    return quarter\n",
    "\n",
    "\n",
    "for i in range(10):\n",
    "    month = randint(1, 12)\n",
    "    values = {\n",
    "        'time': faker.time(),\n",
    "        'day': randint(1, 28),\n",
    "        'day_of_the_week': DAYS_OF_THE_WEEK[randint(0, 6)],\n",
    "        'month': month,\n",
    "        'quarter': getQuarter(month),\n",
    "        'year': randint(2010, 2030)\n",
    "    }\n",
    "\n",
    "    queryString='''\n",
    "    INSERT INTO TIME (\n",
    "        time,\n",
    "        day,\n",
    "        day_of_the_week,\n",
    "        month,\n",
    "        quarter,\n",
    "        year\n",
    "    )\n",
    "    VALUES\n",
    "    (\n",
    "        %s, %s, %s, %s, %s, %s\n",
    "    )\n",
    "    ;\n",
    "    '''\n",
    "\n",
    "    mysqlHelper.mutate(queryString, tuple(values.values()))\n",
    "del mysqlHelper"
   ]
  },
  {
   "cell_type": "markdown",
   "metadata": {},
   "source": [
    "Items"
   ]
  },
  {
   "cell_type": "code",
   "execution_count": 5,
   "metadata": {},
   "outputs": [
    {
     "name": "stdout",
     "output_type": "stream",
     "text": [
      "Mutation successful\n",
      "Mutation successful\n",
      "Mutation successful\n",
      "Mutation successful\n",
      "Mutation successful\n",
      "Mutation successful\n",
      "Mutation successful\n",
      "Mutation successful\n",
      "Mutation successful\n",
      "Mutation successful\n"
     ]
    }
   ],
   "source": [
    "from faker import Faker\n",
    "from random import randint\n",
    "\n",
    "mysqlHelper = MysqlHelper(host=HOST_NAME, user=USERNAME, password=PASSWORD, database=DB_NAME)\n",
    "faker = Faker()\n",
    "\n",
    "for i in range(10):\n",
    "    values = {\n",
    "        'item_name': faker.word(),\n",
    "        'brand': faker.word(),\n",
    "        'type': faker.word(),\n",
    "        'supplier_type': faker.word()\n",
    "    }\n",
    "\n",
    "    queryString='''\n",
    "    INSERT INTO item (\n",
    "        item_name,\n",
    "        brand,\n",
    "        type,\n",
    "        supplier_type\n",
    "    )\n",
    "    VALUES\n",
    "    (\n",
    "        %s, %s, %s, %s\n",
    "    )\n",
    "    ;\n",
    "    '''\n",
    "\n",
    "    mysqlHelper.mutate(queryString, tuple(values.values()))\n",
    "del mysqlHelper"
   ]
  },
  {
   "cell_type": "markdown",
   "metadata": {},
   "source": [
    "Branch"
   ]
  },
  {
   "cell_type": "code",
   "execution_count": 6,
   "metadata": {},
   "outputs": [
    {
     "name": "stdout",
     "output_type": "stream",
     "text": [
      "Mutation successful\n",
      "Mutation successful\n",
      "Mutation successful\n",
      "Mutation successful\n",
      "Mutation successful\n",
      "Mutation successful\n",
      "Mutation successful\n",
      "Mutation successful\n",
      "Mutation successful\n",
      "Mutation successful\n"
     ]
    }
   ],
   "source": [
    "from faker import Faker\n",
    "from random import randint\n",
    "\n",
    "mysqlHelper = MysqlHelper(host=HOST_NAME, user=USERNAME, password=PASSWORD, database=DB_NAME)\n",
    "faker = Faker()\n",
    "\n",
    "for i in range(10):\n",
    "    values = {\n",
    "        'branch_name': faker.word(),\n",
    "        'branch_type': faker.word(),\n",
    "    }\n",
    "\n",
    "    queryString='''\n",
    "    INSERT INTO branch (\n",
    "        branch_name,\n",
    "        branch_type\n",
    "    )\n",
    "    VALUES\n",
    "    (\n",
    "        %s, %s\n",
    "    )\n",
    "    ;\n",
    "    '''\n",
    "\n",
    "    mysqlHelper.mutate(queryString, tuple(values.values()))\n",
    "del mysqlHelper"
   ]
  },
  {
   "cell_type": "markdown",
   "metadata": {},
   "source": [
    "Location"
   ]
  },
  {
   "cell_type": "code",
   "execution_count": 7,
   "metadata": {},
   "outputs": [
    {
     "name": "stdout",
     "output_type": "stream",
     "text": [
      "Mutation successful\n",
      "Mutation successful\n",
      "Mutation successful\n",
      "Mutation successful\n",
      "Mutation successful\n",
      "Mutation successful\n",
      "Mutation successful\n",
      "Mutation successful\n",
      "Mutation successful\n",
      "Mutation successful\n"
     ]
    }
   ],
   "source": [
    "from faker import Faker\n",
    "from random import randint\n",
    "\n",
    "mysqlHelper = MysqlHelper(host=HOST_NAME, user=USERNAME, password=PASSWORD, database=DB_NAME)\n",
    "faker = Faker()\n",
    "\n",
    "for i in range(10):\n",
    "    values = {\n",
    "        'street': faker.street_name(),\n",
    "        'city': faker.city(),\n",
    "        'state_or_province': faker.state(),\n",
    "        'country': faker.country()\n",
    "    }\n",
    "\n",
    "    queryString='''\n",
    "    INSERT INTO location (\n",
    "        street,\n",
    "        city,\n",
    "        state_or_province,\n",
    "        country\n",
    "    )\n",
    "    VALUES\n",
    "    (\n",
    "        %s, %s, %s, %s\n",
    "    )\n",
    "    ;\n",
    "    '''\n",
    "\n",
    "    mysqlHelper.mutate(queryString, tuple(values.values()))\n",
    "del mysqlHelper"
   ]
  },
  {
   "cell_type": "markdown",
   "metadata": {},
   "source": [
    "Sales Facts"
   ]
  },
  {
   "cell_type": "code",
   "execution_count": 8,
   "metadata": {},
   "outputs": [],
   "source": [
    "from MysqlHelper import MysqlHelper\n",
    "\n",
    "HOST_NAME = 'localhost'\n",
    "USERNAME = 'root'\n",
    "PASSWORD = ''\n",
    "DB_NAME = 'data_warehouse'"
   ]
  },
  {
   "cell_type": "code",
   "execution_count": 9,
   "metadata": {},
   "outputs": [
    {
     "name": "stdout",
     "output_type": "stream",
     "text": [
      "Mutation successful\n",
      "Mutation successful\n",
      "Mutation successful\n",
      "Mutation successful\n",
      "Mutation successful\n",
      "Mutation successful\n",
      "Mutation successful\n",
      "Mutation successful\n",
      "Mutation successful\n",
      "Mutation successful\n"
     ]
    }
   ],
   "source": [
    "from faker import Faker\n",
    "from random import randint\n",
    "\n",
    "mysqlHelper = MysqlHelper(host=HOST_NAME, user=USERNAME, password=PASSWORD, database=DB_NAME)\n",
    "\n",
    "rows = mysqlHelper.query('SELECT time_key FROM time LIMIT 10')\n",
    "results = mysqlHelper.rowsToList(rows)\n",
    "timeKeys = [value for sublist in results for value in sublist]\n",
    "\n",
    "rows = mysqlHelper.query('SELECT item_key FROM item LIMIT 10')\n",
    "results = mysqlHelper.rowsToList(rows)\n",
    "itemKeys = [value for sublist in results for value in sublist]\n",
    "\n",
    "rows = mysqlHelper.query('SELECT branch_key FROM branch LIMIT 10')\n",
    "results = mysqlHelper.rowsToList(rows)\n",
    "branchKeys = [value for sublist in results for value in sublist]\n",
    "\n",
    "rows = mysqlHelper.query('SELECT location_key FROM location LIMIT 10')\n",
    "results = mysqlHelper.rowsToList(rows)\n",
    "locationKeys = [value for sublist in results for value in sublist]\n",
    "\n",
    "for i in range(10):\n",
    "    values = {\n",
    "        'time_key': timeKeys[randint(0, 9)],\n",
    "        'item_key': itemKeys[randint(0, 9)],\n",
    "        'branch_key': branchKeys[randint(0, 9)],\n",
    "        'location_key': locationKeys[randint(0, 9)],\n",
    "        'unit_sold': randint(0, 50),\n",
    "        'dollars_sold': randint(50, 1000)\n",
    "    }\n",
    "\n",
    "    queryString='''\n",
    "    INSERT INTO sales_fact (\n",
    "        time_key,\n",
    "        item_key,\n",
    "        branch_key,\n",
    "        location_key,\n",
    "        unit_sold,\n",
    "        dollars_sold\n",
    "    )\n",
    "    VALUES\n",
    "    (\n",
    "        %s, %s, %s, %s, %s, %s\n",
    "    )\n",
    "    ;\n",
    "    '''\n",
    "\n",
    "    mysqlHelper.mutate(queryString, tuple(values.values()))\n",
    "\n",
    "del mysqlHelper"
   ]
  },
  {
   "cell_type": "code",
   "execution_count": 10,
   "metadata": {},
   "outputs": [
    {
     "data": {
      "text/plain": [
       "[1, 2, 3, 4, 5, 6, 7, 8, 9, 10]"
      ]
     },
     "execution_count": 10,
     "metadata": {},
     "output_type": "execute_result"
    }
   ],
   "source": []
  },
  {
   "cell_type": "code",
   "execution_count": null,
   "metadata": {},
   "outputs": [],
   "source": []
  }
 ],
 "metadata": {
  "kernelspec": {
   "display_name": "Python 3.10.6 64-bit",
   "language": "python",
   "name": "python3"
  },
  "language_info": {
   "codemirror_mode": {
    "name": "ipython",
    "version": 3
   },
   "file_extension": ".py",
   "mimetype": "text/x-python",
   "name": "python",
   "nbconvert_exporter": "python",
   "pygments_lexer": "ipython3",
   "version": "3.10.6"
  },
  "orig_nbformat": 4,
  "vscode": {
   "interpreter": {
    "hash": "f6356683baf53449cf23eb17b0641fb99a59459706f77a01f6e695bd8ed9bf34"
   }
  }
 },
 "nbformat": 4,
 "nbformat_minor": 2
}
